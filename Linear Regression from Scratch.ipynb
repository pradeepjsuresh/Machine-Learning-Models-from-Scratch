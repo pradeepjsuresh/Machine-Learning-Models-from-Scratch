{
  "nbformat": 4,
  "nbformat_minor": 5,
  "metadata": {
    "kernelspec": {
      "display_name": "Python 3",
      "language": "python",
      "name": "python3"
    },
    "language_info": {
      "codemirror_mode": {
        "name": "ipython",
        "version": 3
      },
      "file_extension": ".py",
      "mimetype": "text/x-python",
      "name": "python",
      "nbconvert_exporter": "python",
      "pygments_lexer": "ipython3",
      "version": "3.8.5"
    },
    "colab": {
      "name": "main.ipynb",
      "provenance": [],
      "collapsed_sections": []
    }
  },
  "cells": [
    {
      "cell_type": "markdown",
      "metadata": {
        "id": "canadian-philadelphia"
      },
      "source": [
        "#### Predicting Property value\n",
        "Number of Instances: 92508\n",
        "\n",
        "Number of Attributes: 16 (including the target variable)\n",
        "\n",
        "Attribute Information:\n",
        "\n",
        "| Column Name                | Description                                                                                                                                      | Type        |\n",
        "|----------------------------|--------------------------------------------------------------------------------------------------------------------------------------------------|-------------|\n",
        "| TOTAL VALUE                | The combined assessed value of the land and improvements on the parcel                                                                           | Number      |\n",
        "| FRONT                      | The width of the front of property (in feet)                                                                                                     | Number      |\n",
        "| DEPTH                      | The depth of the property (in feet)                                                                                                              | Number      |\n",
        "| PROPERTY CLASS             | Property Type Classification Codes describe the primary use of each parcel of real property on the assessment roll                               | Number      |\n",
        "| LAND VALUE                 | The assessed value of the land                                                                                                                   | Number      |\n",
        "| SALE PRICE                 | The price that the parcel of real property was last sold for                                                                                     | Number      |\n",
        "| YEAR BUILT                 | The year the primary building on the parcel was built                                                                                            | Number      |\n",
        "| TOTAL LIVING AREA          | The amount of living space (in square feet)                                                                                                      | Number      |\n",
        "| OVERALL CONDITION          | A grade of the condition of the property                                                                                                         | Number      |\n",
        "| BUILDING STYLE             | A code for the style of building                                                                                                                 | Number      |\n",
        "| HEAT TYPE                  | The type of heating system in the building (only applicable to residential properties)                                                           | Number      |\n",
        "| BASEMENT TYPE              | The type of basement on the property (only applicable to residential properties)                                                                 | Number      |\n",
        "| # OF STORIES               | The number of floors/Stories in the property                                                                                                     | Number      |\n",
        "| # OF FIREPLACES            | The number of fireplaces in a dwelling (only applicable to residential properties)                                                               | Number      |\n",
        "| # OF BEDS                  | The number of beds in a dwelling (only applicable to residential properties)                                                                     | Number      |\n",
        "| # OF BATHS                 | The number of baths in a dwelling (only applicable to residential properties)                                                                    | Number      |\n",
        "| # OF KITCHENS              | The number of kitchens in a dwelling (only applicable to residential properties)                                                                 | Number      |\n",
        "\n",
        "\n",
        "\n",
        "There are no missing Attribute Values.\n",
        "\n",
        "Implementing a Linear Regression Model to predict the TOTAL VALUE of a property"
      ],
      "id": "canadian-philadelphia"
    },
    {
      "cell_type": "code",
      "metadata": {
        "id": "planned-perry"
      },
      "source": [
        "# imports\n",
        "import pandas as pd\n",
        "import numpy as np\n",
        "from sklearn.model_selection import train_test_split\n",
        "import matplotlib.pyplot as plt\n",
        "\n",
        "%matplotlib inline"
      ],
      "id": "planned-perry",
      "execution_count": null,
      "outputs": []
    },
    {
      "cell_type": "markdown",
      "metadata": {
        "id": "traditional-tissue"
      },
      "source": [
        "#### STEP 1 - Load Data"
      ],
      "id": "traditional-tissue"
    },
    {
      "cell_type": "code",
      "metadata": {
        "id": "measured-report"
      },
      "source": [
        "# loads csv file into pandas dataframe\n",
        "df = pd.read_csv('data.csv', dtype=np.float64)\n",
        "\n",
        "#To shuffle the data \n",
        "df = df.sample(frac = 1)"
      ],
      "id": "measured-report",
      "execution_count": null,
      "outputs": []
    },
    {
      "cell_type": "code",
      "metadata": {
        "id": "preliminary-wireless"
      },
      "source": [
        "# takes out total value column (target) and flattens it as as numpy array\n",
        "y = np.asarray(df['TOTAL VALUE'] )\n",
        "y = y.reshape(y.shape[0],1)\n",
        "# converts column names to a list and removes target column\n",
        "feature_cols = df.columns.to_list()\n",
        "feature_cols.remove('TOTAL VALUE')\n",
        "# indexes the dataframe to get just the feature columns then turns it into a numpy array\n",
        "x = np.asarray(df[feature_cols])"
      ],
      "id": "preliminary-wireless",
      "execution_count": null,
      "outputs": []
    },
    {
      "cell_type": "markdown",
      "metadata": {
        "id": "available-picnic"
      },
      "source": [
        "Variable **y** contains the total values of the property\n",
        "\n",
        "Variable **x** contains the features"
      ],
      "id": "available-picnic"
    },
    {
      "cell_type": "code",
      "metadata": {
        "id": "downtown-antarctica",
        "colab": {
          "base_uri": "https://localhost:8080/"
        },
        "outputId": "81f98df3-3e26-4e15-d787-a14e0e69a996"
      },
      "source": [
        "#STEP 2\n",
        "#creating a train-test split of 80-20 \n",
        "X_train,X_test,Y_train,Y_test = train_test_split(x,y,test_size = 0.2,random_state = 5)\n",
        "#Further dividing train to 70-10 train-validation\n",
        "X_train,X_val,Y_train,Y_val = train_test_split(X_train,Y_train,test_size = 0.125,random_state = 5)\n",
        "#Checking for dimensions\n",
        "print('X_train = ',X_train.shape)\n",
        "print('X_test = ',X_test.shape)\n",
        "print('X_val = ',X_val.shape)"
      ],
      "id": "downtown-antarctica",
      "execution_count": null,
      "outputs": [
        {
          "output_type": "stream",
          "name": "stdout",
          "text": [
            "X_train =  (64755, 15)\n",
            "X_test =  (18502, 15)\n",
            "X_val =  (9251, 15)\n"
          ]
        }
      ]
    },
    {
      "cell_type": "code",
      "metadata": {
        "id": "civilian-lounge"
      },
      "source": [
        "#STEP 3\n",
        "#Function for scaling\n",
        "def scaler(X):\n",
        "  return (X-X.min(axis=0))/(X.max(axis=0)-X.min(axis=0))\n",
        "\n",
        "#Scale the features\n",
        "X_train_s = scaler(X_train)\n",
        "X_test_s = scaler(X_test)\n",
        "X_val_s = scaler(X_val)\n",
        "\n",
        "#Scale the targets\n",
        "Y_train_s = scaler(Y_train)\n",
        "Y_test_s = scaler(Y_test)\n",
        "Y_val_s = scaler(Y_val)\n"
      ],
      "id": "civilian-lounge",
      "execution_count": null,
      "outputs": []
    },
    {
      "cell_type": "code",
      "metadata": {
        "id": "absolute-associate"
      },
      "source": [
        "#STEP 4\n",
        "#Initialising random weights to 16 weight parameters\n",
        "\n",
        "import random\n",
        "#seed value to reproduce random numbers \n",
        "np.random.seed(100)\n",
        "\n",
        "#Initialise an empty numpy array\n",
        "w = np.zeros(16)\n",
        "\n",
        "#initialise random numbers.As random creates values between 0-1 and weights can be more than 0-1, start with higher weights.\n",
        "w = np.random.rand(16,1)*1000\n",
        "\n",
        "#After trail and error , optimal values for epoch and learning rate were found as follows\n",
        "epoch = 50\n",
        "rate = 0.17"
      ],
      "id": "absolute-associate",
      "execution_count": null,
      "outputs": []
    },
    {
      "cell_type": "code",
      "metadata": {
        "id": "alleged-diary"
      },
      "source": [
        "# STEP 5\n",
        "#Find the size of train and validatoin set \n",
        "n_train,c = X_train_s.shape\n",
        "n_val,c = X_val_s.shape\n",
        "\n",
        "#Initialise the lists to store the scores\n",
        "MSE_val_list=[]\n",
        "MSE_train_list=[]\n",
        "\n",
        "parameters = np.transpose(w)\n",
        "\n",
        "num_dec = 5\n",
        "\n",
        "#addd a column of 1's for bias for train and val data\n",
        "X_train_with_bias = np.round(np.append(np.ones([len(X_train_s),1]),X_train_s,1),decimals = 3)\n",
        "X_val_with_bias = np.round(np.append(np.ones([len(X_val_s),1]),X_val_s,1),decimals = 3)\n",
        "\n",
        "#run the loop for each epoch\n",
        "for i in range(epoch):\n",
        "\n",
        "  MSE=0\n",
        "  sum_of_squared =0\n",
        "\n",
        "  #run through each data point\n",
        "  for j in range(n_train):\n",
        "    #Calulate the predicted value \n",
        "    predicted = np.dot(parameters,X_train_with_bias[j])\n",
        "    \n",
        "    #SSE\n",
        "    sum_of_squared = sum_of_squared +((Y_train_s[j] - predicted)**2)\n",
        "    \n",
        "    #stochastic gradient descent\n",
        "    gradient = (np.dot(parameters,X_train_with_bias[j]))\n",
        "    \n",
        "    #MLE \n",
        "    parameters = parameters + rate * (Y_train_s[j]-gradient)*X_train_with_bias[j]\n",
        "\n",
        "  #Calculate MSE and append to list\n",
        "  MSE_train = sum_of_squared /  n_train;\n",
        "  MSE_train_list.append(round(MSE_train[0],num_dec))\n",
        "  \n",
        "  #Calculate the predicted value from validation set and weight parameters after each epoch\n",
        "  val_pred = Y_val_s - np.transpose(np.dot(parameters,np.transpose(X_val_with_bias)))\n",
        "  \n",
        "  #Calculate Validation MSE and append to list\n",
        "  MSE_val = (np.dot(np.transpose(val_pred),val_pred))/n_val\n",
        "  MSE_val_list.append(round(MSE_val[0][0],num_dec))\n",
        "\n",
        "parameters = np.round(parameters,decimals = 5)"
      ],
      "id": "alleged-diary",
      "execution_count": null,
      "outputs": []
    },
    {
      "cell_type": "code",
      "metadata": {
        "id": "outstanding-jewel",
        "colab": {
          "base_uri": "https://localhost:8080/",
          "height": 295
        },
        "outputId": "d93c2818-794a-4558-cf2c-547e4fe8f7e0"
      },
      "source": [
        "# STEP 6\n",
        "# Create a list in a range of 10-20\n",
        "epoch_list = list(range(1,epoch+1))\n",
        "\n",
        "#Plot loss for validation and train sets vs epoch\n",
        "fig = plt.gcf()\n",
        "plt.plot(epoch_list,MSE_train_list,label = 'Train loss')\n",
        "plt.plot(epoch_list,MSE_val_list,label = 'Validation loss')\n",
        "plt.legend(loc = 'upper right')\n",
        "plt.title(\"Loss vs Epoch\")\n",
        "plt.xlabel('Epoch')\n",
        "plt.ylabel('Loss')\n",
        "\n",
        "plt.show()\n"
      ],
      "id": "outstanding-jewel",
      "execution_count": null,
      "outputs": [
        {
          "output_type": "display_data",
          "data": {
            "text/plain": [
              "<Figure size 432x288 with 1 Axes>"
            ],
            "image/png": "[encoded data removed]"
          },
          "metadata": {
            "needs_background": "light"
          }
        }
      ]
    },
    {
      "cell_type": "code",
      "source": [
        "#Test accuracy calculation\n",
        "\n",
        "#function to calculate R square\n",
        "def rsquare_calculator(pred,actual):\n",
        "  error = pred-actual\n",
        "  SSR = np.dot(error,np.transpose(error))\n",
        "  TSS = np.dot(actual,np.transpose(actual))\n",
        "  return (1-(SSR[0][0]/TSS[0][0]))\n",
        "\n",
        "#Add bias column to test set \n",
        "X_test_with_bias = np.round(np.append(np.ones([len(X_test_s),1]),X_test_s,1),3)\n",
        "\n",
        "#Predict train, val and test values from final optimal parameters\n",
        "train_predictions = np.dot(parameters,np.transpose(X_train_with_bias))\n",
        "val_predictions = np.dot(parameters,np.transpose(X_val_with_bias))\n",
        "test_predictions = np.dot(parameters,np.transpose(X_test_with_bias))\n",
        "\n",
        "#Calculate R square for each of the predicted values\n",
        "R2_train = rsquare_calculator(train_predictions,np.transpose(Y_train_s))\n",
        "R2_val = rsquare_calculator(val_predictions,np.transpose(Y_val_s))\n",
        "R2_test = rsquare_calculator(test_predictions,np.transpose(Y_test_s))\n",
        "\n",
        "#Print the R2 scores\n",
        "print(\"Train R2 = \",round(R2_train,4))\n",
        "print(\"Val R2 = \",round(R2_val,4))\n",
        "print(\"Test R2 = \",round(R2_test,4))"
      ],
      "metadata": {
        "colab": {
          "base_uri": "https://localhost:8080/"
        },
        "id": "ybqig71LisyN",
        "outputId": "c81dcefe-8288-4879-c23c-1852daf629ea"
      },
      "id": "ybqig71LisyN",
      "execution_count": null,
      "outputs": [
        {
          "output_type": "stream",
          "name": "stdout",
          "text": [
            "Train R2 =  0.0874\n",
            "Val R2 =  0.1854\n",
            "Test R2 =  0.1308\n"
          ]
        }
      ]
    },
    {
      "cell_type": "code",
      "source": [
        "#Scatter plot of train - actual vs predicted\n",
        "fig.set_size_inches(20,15)\n",
        "plt.xlabel(\"Predicted\")\n",
        "plt.ylabel(\"Actual\")\n",
        "plt.scatter(train_predictions,Y_train_s,c = \"brown\")\n",
        "plt.title(\"Train set : Actual vs Predicted\")\n",
        "plt.show()"
      ],
      "metadata": {
        "colab": {
          "base_uri": "https://localhost:8080/",
          "height": 295
        },
        "id": "A6NMjJg2t6zr",
        "outputId": "6c6233df-75f7-48aa-be24-d642db3b7d93"
      },
      "id": "A6NMjJg2t6zr",
      "execution_count": null,
      "outputs": [
        {
          "output_type": "display_data",
          "data": {
            "text/plain": [
              "<Figure size 432x288 with 1 Axes>"
            ],
            "image/png": "[encoded data removed]"
          },
          "metadata": {
            "needs_background": "light"
          }
        }
      ]
    },
    {
      "cell_type": "code",
      "source": [
        "#Scatter plot of validation - actual vs predicted\n",
        "plt.xlabel(\"Predicted\")\n",
        "plt.ylabel(\"Actual\")\n",
        "plt.scatter(val_predictions,Y_val_s,c = \"green\")\n",
        "plt.title(\"Validation set : Actual vs Predicted\")\n",
        "plt.xlabel(\"Predicted\")\n",
        "plt.ylabel(\"Actual\")\n",
        "plt.show()\n"
      ],
      "metadata": {
        "colab": {
          "base_uri": "https://localhost:8080/",
          "height": 295
        },
        "id": "BOWSPNp0E0pL",
        "outputId": "1a6894bd-4146-44fb-e090-59334d7ed40c"
      },
      "id": "BOWSPNp0E0pL",
      "execution_count": null,
      "outputs": [
        {
          "output_type": "display_data",
          "data": {
            "text/plain": [
              "<Figure size 432x288 with 1 Axes>"
            ],
            "image/png": "[encoded data removed]"
          },
          "metadata": {
            "needs_background": "light"
          }
        }
      ]
    },
    {
      "cell_type": "code",
      "source": [
        "#Scatter plot of test - actual vs predicted\n",
        "plt.xlabel(\"Predicted\")\n",
        "plt.ylabel(\"Actual\")\n",
        "plt.scatter(test_predictions,Y_test_s)\n",
        "plt.title(\"Test set : Actual vs Predicted\")\n",
        "plt.xlabel(\"Predicted\")\n",
        "plt.ylabel(\"Actual\")\n",
        "plt.show()"
      ],
      "metadata": {
        "colab": {
          "base_uri": "https://localhost:8080/",
          "height": 295
        },
        "id": "vD1brMy4E4Yg",
        "outputId": "936aa648-3c53-4fbc-f40b-9f3ddc454b0e"
      },
      "id": "vD1brMy4E4Yg",
      "execution_count": null,
      "outputs": [
        {
          "output_type": "display_data",
          "data": {
            "text/plain": [
              "<Figure size 432x288 with 1 Axes>"
            ],
            "image/png": "[encoded data removed]"
          },
          "metadata": {
            "needs_background": "light"
          }
        }
      ]
    }
  ]
}